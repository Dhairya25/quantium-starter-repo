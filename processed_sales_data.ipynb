{
 "cells": [
  {
   "cell_type": "code",
   "execution_count": 1,
   "id": "c7bc5079-d7dc-4aad-9799-6355fd4a6a17",
   "metadata": {},
   "outputs": [],
   "source": [
    "import pandas as pd"
   ]
  },
  {
   "cell_type": "code",
   "execution_count": 2,
   "id": "c8b3a00d-2e0d-4ff8-987d-e92bf2e00bc1",
   "metadata": {},
   "outputs": [],
   "source": [
    "data = pd.read_csv(\"C:\\\\Users\\\\paliw\\\\OneDrive\\\\Desktop\\\\Quantum_softdev\\\\quantium-starter-repo\\\\data\\\\daily_sales_data_0.csv\")\n",
    "data1 = pd.read_csv(\"C:\\\\Users\\\\paliw\\\\OneDrive\\\\Desktop\\\\Quantum_softdev\\\\quantium-starter-repo\\\\data\\\\daily_sales_data_1.csv\")\n",
    "data2 = pd.read_csv(\"C:\\\\Users\\\\paliw\\\\OneDrive\\\\Desktop\\\\Quantum_softdev\\\\quantium-starter-repo\\\\data\\\\daily_sales_data_2.csv\")"
   ]
  },
  {
   "cell_type": "code",
   "execution_count": 3,
   "id": "95bb7d8e-1f85-40da-b928-de6a2ea32d61",
   "metadata": {},
   "outputs": [
    {
     "name": "stdout",
     "output_type": "stream",
     "text": [
      "<class 'pandas.core.frame.DataFrame'>\n",
      "RangeIndex: 13720 entries, 0 to 13719\n",
      "Data columns (total 5 columns):\n",
      " #   Column    Non-Null Count  Dtype \n",
      "---  ------    --------------  ----- \n",
      " 0   product   13720 non-null  object\n",
      " 1   price     13720 non-null  object\n",
      " 2   quantity  13720 non-null  int64 \n",
      " 3   date      13720 non-null  object\n",
      " 4   region    13720 non-null  object\n",
      "dtypes: int64(1), object(4)\n",
      "memory usage: 536.1+ KB\n"
     ]
    }
   ],
   "source": [
    "data.info()"
   ]
  },
  {
   "cell_type": "code",
   "execution_count": 4,
   "id": "1e4464ca-1ad7-4962-a0a8-ffdc54c49eaa",
   "metadata": {},
   "outputs": [
    {
     "name": "stdout",
     "output_type": "stream",
     "text": [
      "<class 'pandas.core.frame.DataFrame'>\n",
      "RangeIndex: 13720 entries, 0 to 13719\n",
      "Data columns (total 5 columns):\n",
      " #   Column    Non-Null Count  Dtype \n",
      "---  ------    --------------  ----- \n",
      " 0   product   13720 non-null  object\n",
      " 1   price     13720 non-null  object\n",
      " 2   quantity  13720 non-null  int64 \n",
      " 3   date      13720 non-null  object\n",
      " 4   region    13720 non-null  object\n",
      "dtypes: int64(1), object(4)\n",
      "memory usage: 536.1+ KB\n"
     ]
    }
   ],
   "source": [
    "data1.info()"
   ]
  },
  {
   "cell_type": "code",
   "execution_count": 5,
   "id": "090211b0-8e0e-4b3e-84de-79b06bda271b",
   "metadata": {},
   "outputs": [
    {
     "name": "stdout",
     "output_type": "stream",
     "text": [
      "<class 'pandas.core.frame.DataFrame'>\n",
      "RangeIndex: 13720 entries, 0 to 13719\n",
      "Data columns (total 5 columns):\n",
      " #   Column    Non-Null Count  Dtype \n",
      "---  ------    --------------  ----- \n",
      " 0   product   13720 non-null  object\n",
      " 1   price     13720 non-null  object\n",
      " 2   quantity  13720 non-null  int64 \n",
      " 3   date      13720 non-null  object\n",
      " 4   region    13720 non-null  object\n",
      "dtypes: int64(1), object(4)\n",
      "memory usage: 536.1+ KB\n"
     ]
    }
   ],
   "source": [
    "data2.info()"
   ]
  },
  {
   "cell_type": "code",
   "execution_count": 6,
   "id": "6efce0db-c41d-41de-a376-8e205b39ffcc",
   "metadata": {},
   "outputs": [
    {
     "data": {
      "text/plain": [
       "array(['pink morsel', 'gold morsel', 'magenta morsel',\n",
       "       'chartreuse morsel', 'periwinkle morsel', 'vermilion morsel',\n",
       "       'lapis morsel'], dtype=object)"
      ]
     },
     "execution_count": 6,
     "metadata": {},
     "output_type": "execute_result"
    }
   ],
   "source": [
    "data['product'].unique()"
   ]
  },
  {
   "cell_type": "code",
   "execution_count": 7,
   "id": "045e0302-be60-490d-94fe-4f0c72a3e0f7",
   "metadata": {},
   "outputs": [],
   "source": [
    "filtered_data = data[data['product'] == 'pink morsel']"
   ]
  },
  {
   "cell_type": "code",
   "execution_count": 8,
   "id": "6f9e9957-f04e-4a62-b7ee-92fc0ecc8469",
   "metadata": {},
   "outputs": [],
   "source": [
    "filtered_data1 = data1[data1['product'] == 'pink morsel']"
   ]
  },
  {
   "cell_type": "code",
   "execution_count": 9,
   "id": "d7af3890-a082-4e3d-a8f3-56207eb9e0eb",
   "metadata": {},
   "outputs": [],
   "source": [
    "filtered_data2 = data2[data2['product'] == 'pink morsel']"
   ]
  },
  {
   "cell_type": "code",
   "execution_count": 10,
   "id": "7ff34bdd-e8e5-49b6-935d-2e9e2dc0589f",
   "metadata": {},
   "outputs": [
    {
     "name": "stdout",
     "output_type": "stream",
     "text": [
      "<class 'pandas.core.frame.DataFrame'>\n",
      "Index: 1960 entries, 0 to 13695\n",
      "Data columns (total 5 columns):\n",
      " #   Column    Non-Null Count  Dtype \n",
      "---  ------    --------------  ----- \n",
      " 0   product   1960 non-null   object\n",
      " 1   price     1960 non-null   object\n",
      " 2   quantity  1960 non-null   int64 \n",
      " 3   date      1960 non-null   object\n",
      " 4   region    1960 non-null   object\n",
      "dtypes: int64(1), object(4)\n",
      "memory usage: 91.9+ KB\n"
     ]
    }
   ],
   "source": [
    "filtered_data.info()"
   ]
  },
  {
   "cell_type": "code",
   "execution_count": 12,
   "id": "6aa47703-d79f-4af9-a747-80677d6f9183",
   "metadata": {},
   "outputs": [
    {
     "name": "stderr",
     "output_type": "stream",
     "text": [
      "C:\\Users\\paliw\\AppData\\Local\\Temp\\ipykernel_832\\373147121.py:2: SettingWithCopyWarning: \n",
      "A value is trying to be set on a copy of a slice from a DataFrame.\n",
      "Try using .loc[row_indexer,col_indexer] = value instead\n",
      "\n",
      "See the caveats in the documentation: https://pandas.pydata.org/pandas-docs/stable/user_guide/indexing.html#returning-a-view-versus-a-copy\n",
      "  filtered_data['price'] = filtered_data['price'].replace({'\\$': ''}, regex=True).astype(float)\n"
     ]
    }
   ],
   "source": [
    "# Remove dollar signs from the 'price' column and convert to float\n",
    "filtered_data['price'] = filtered_data['price'].replace({'\\$': ''}, regex=True).astype(float)"
   ]
  },
  {
   "cell_type": "code",
   "execution_count": 13,
   "id": "b95c2329-cb45-481a-8cc3-4c3c63778665",
   "metadata": {},
   "outputs": [
    {
     "data": {
      "text/html": [
       "<div>\n",
       "<style scoped>\n",
       "    .dataframe tbody tr th:only-of-type {\n",
       "        vertical-align: middle;\n",
       "    }\n",
       "\n",
       "    .dataframe tbody tr th {\n",
       "        vertical-align: top;\n",
       "    }\n",
       "\n",
       "    .dataframe thead th {\n",
       "        text-align: right;\n",
       "    }\n",
       "</style>\n",
       "<table border=\"1\" class=\"dataframe\">\n",
       "  <thead>\n",
       "    <tr style=\"text-align: right;\">\n",
       "      <th></th>\n",
       "      <th>product</th>\n",
       "      <th>price</th>\n",
       "      <th>quantity</th>\n",
       "      <th>date</th>\n",
       "      <th>region</th>\n",
       "    </tr>\n",
       "  </thead>\n",
       "  <tbody>\n",
       "    <tr>\n",
       "      <th>0</th>\n",
       "      <td>pink morsel</td>\n",
       "      <td>3.0</td>\n",
       "      <td>546</td>\n",
       "      <td>2018-02-06</td>\n",
       "      <td>north</td>\n",
       "    </tr>\n",
       "    <tr>\n",
       "      <th>1</th>\n",
       "      <td>pink morsel</td>\n",
       "      <td>3.0</td>\n",
       "      <td>549</td>\n",
       "      <td>2018-02-06</td>\n",
       "      <td>south</td>\n",
       "    </tr>\n",
       "    <tr>\n",
       "      <th>2</th>\n",
       "      <td>pink morsel</td>\n",
       "      <td>3.0</td>\n",
       "      <td>577</td>\n",
       "      <td>2018-02-06</td>\n",
       "      <td>east</td>\n",
       "    </tr>\n",
       "    <tr>\n",
       "      <th>3</th>\n",
       "      <td>pink morsel</td>\n",
       "      <td>3.0</td>\n",
       "      <td>519</td>\n",
       "      <td>2018-02-06</td>\n",
       "      <td>west</td>\n",
       "    </tr>\n",
       "    <tr>\n",
       "      <th>28</th>\n",
       "      <td>pink morsel</td>\n",
       "      <td>3.0</td>\n",
       "      <td>529</td>\n",
       "      <td>2018-02-07</td>\n",
       "      <td>north</td>\n",
       "    </tr>\n",
       "  </tbody>\n",
       "</table>\n",
       "</div>"
      ],
      "text/plain": [
       "        product  price  quantity        date region\n",
       "0   pink morsel    3.0       546  2018-02-06  north\n",
       "1   pink morsel    3.0       549  2018-02-06  south\n",
       "2   pink morsel    3.0       577  2018-02-06   east\n",
       "3   pink morsel    3.0       519  2018-02-06   west\n",
       "28  pink morsel    3.0       529  2018-02-07  north"
      ]
     },
     "execution_count": 13,
     "metadata": {},
     "output_type": "execute_result"
    }
   ],
   "source": [
    "filtered_data.head()"
   ]
  },
  {
   "cell_type": "code",
   "execution_count": 14,
   "id": "72b22e12-4e84-46a4-bbdc-28c6406051a8",
   "metadata": {},
   "outputs": [],
   "source": [
    "filtered_data1.loc[:, 'price'] = filtered_data1['price'].replace({'\\$': ''}, regex=True).astype(float)"
   ]
  },
  {
   "cell_type": "code",
   "execution_count": 15,
   "id": "96495629-a21a-4465-99be-ed16548ccb14",
   "metadata": {},
   "outputs": [],
   "source": [
    "filtered_data2.loc[:, 'price'] = filtered_data2['price'].replace({'\\$': ''}, regex=True).astype(float)"
   ]
  },
  {
   "cell_type": "code",
   "execution_count": 20,
   "id": "3c1cd243-174b-407f-8716-4522ebb9cef8",
   "metadata": {},
   "outputs": [],
   "source": [
    "# Create a new column 'sales' by multiplying 'quantity' and 'price'\n",
    "filtered_data.loc[:, 'sales'] = filtered_data['quantity'] * filtered_data['price']"
   ]
  },
  {
   "cell_type": "code",
   "execution_count": 24,
   "id": "94549db1-7cd1-43e2-9d89-3d9e4e8ad15e",
   "metadata": {},
   "outputs": [],
   "source": [
    "filtered_data1.loc[:, 'sales'] = filtered_data1['quantity'] * filtered_data1['price']"
   ]
  },
  {
   "cell_type": "code",
   "execution_count": 25,
   "id": "9020378d-916e-4bb0-bc51-53d34f89a4cf",
   "metadata": {},
   "outputs": [
    {
     "name": "stderr",
     "output_type": "stream",
     "text": [
      "C:\\Users\\paliw\\AppData\\Local\\Temp\\ipykernel_832\\1364910434.py:1: SettingWithCopyWarning: \n",
      "A value is trying to be set on a copy of a slice from a DataFrame.\n",
      "Try using .loc[row_indexer,col_indexer] = value instead\n",
      "\n",
      "See the caveats in the documentation: https://pandas.pydata.org/pandas-docs/stable/user_guide/indexing.html#returning-a-view-versus-a-copy\n",
      "  filtered_data2.loc[:, 'sales'] = filtered_data2['quantity'] * filtered_data2['price']\n"
     ]
    }
   ],
   "source": [
    "filtered_data2.loc[:, 'sales'] = filtered_data2['quantity'] * filtered_data2['price']"
   ]
  },
  {
   "cell_type": "code",
   "execution_count": 27,
   "id": "14aa2151-1055-430b-a899-40a194637d04",
   "metadata": {},
   "outputs": [
    {
     "data": {
      "text/html": [
       "<div>\n",
       "<style scoped>\n",
       "    .dataframe tbody tr th:only-of-type {\n",
       "        vertical-align: middle;\n",
       "    }\n",
       "\n",
       "    .dataframe tbody tr th {\n",
       "        vertical-align: top;\n",
       "    }\n",
       "\n",
       "    .dataframe thead th {\n",
       "        text-align: right;\n",
       "    }\n",
       "</style>\n",
       "<table border=\"1\" class=\"dataframe\">\n",
       "  <thead>\n",
       "    <tr style=\"text-align: right;\">\n",
       "      <th></th>\n",
       "      <th>product</th>\n",
       "      <th>price</th>\n",
       "      <th>quantity</th>\n",
       "      <th>date</th>\n",
       "      <th>region</th>\n",
       "      <th>sales</th>\n",
       "    </tr>\n",
       "  </thead>\n",
       "  <tbody>\n",
       "    <tr>\n",
       "      <th>0</th>\n",
       "      <td>pink morsel</td>\n",
       "      <td>3.0</td>\n",
       "      <td>546.0</td>\n",
       "      <td>2018-02-06</td>\n",
       "      <td>north</td>\n",
       "      <td>1638.0</td>\n",
       "    </tr>\n",
       "    <tr>\n",
       "      <th>1</th>\n",
       "      <td>pink morsel</td>\n",
       "      <td>3.0</td>\n",
       "      <td>549.0</td>\n",
       "      <td>2018-02-06</td>\n",
       "      <td>south</td>\n",
       "      <td>1647.0</td>\n",
       "    </tr>\n",
       "    <tr>\n",
       "      <th>2</th>\n",
       "      <td>pink morsel</td>\n",
       "      <td>3.0</td>\n",
       "      <td>577.0</td>\n",
       "      <td>2018-02-06</td>\n",
       "      <td>east</td>\n",
       "      <td>1731.0</td>\n",
       "    </tr>\n",
       "    <tr>\n",
       "      <th>3</th>\n",
       "      <td>pink morsel</td>\n",
       "      <td>3.0</td>\n",
       "      <td>519.0</td>\n",
       "      <td>2018-02-06</td>\n",
       "      <td>west</td>\n",
       "      <td>1557.0</td>\n",
       "    </tr>\n",
       "    <tr>\n",
       "      <th>28</th>\n",
       "      <td>pink morsel</td>\n",
       "      <td>3.0</td>\n",
       "      <td>529.0</td>\n",
       "      <td>2018-02-07</td>\n",
       "      <td>north</td>\n",
       "      <td>1587.0</td>\n",
       "    </tr>\n",
       "  </tbody>\n",
       "</table>\n",
       "</div>"
      ],
      "text/plain": [
       "        product  price  quantity        date region   sales\n",
       "0   pink morsel    3.0     546.0  2018-02-06  north  1638.0\n",
       "1   pink morsel    3.0     549.0  2018-02-06  south  1647.0\n",
       "2   pink morsel    3.0     577.0  2018-02-06   east  1731.0\n",
       "3   pink morsel    3.0     519.0  2018-02-06   west  1557.0\n",
       "28  pink morsel    3.0     529.0  2018-02-07  north  1587.0"
      ]
     },
     "execution_count": 27,
     "metadata": {},
     "output_type": "execute_result"
    }
   ],
   "source": [
    "filtered_data.head()"
   ]
  },
  {
   "cell_type": "code",
   "execution_count": 28,
   "id": "c3f56ec4-156a-46ca-ad85-2a9a6427f763",
   "metadata": {},
   "outputs": [],
   "source": [
    "df = filtered_data.copy()\n",
    "df1 = filtered_data1.copy()\n",
    "df2 = filtered_data2.copy()"
   ]
  },
  {
   "cell_type": "code",
   "execution_count": 29,
   "id": "0ab81177-8d32-4ee0-b979-29d73392598f",
   "metadata": {},
   "outputs": [
    {
     "data": {
      "text/html": [
       "<div>\n",
       "<style scoped>\n",
       "    .dataframe tbody tr th:only-of-type {\n",
       "        vertical-align: middle;\n",
       "    }\n",
       "\n",
       "    .dataframe tbody tr th {\n",
       "        vertical-align: top;\n",
       "    }\n",
       "\n",
       "    .dataframe thead th {\n",
       "        text-align: right;\n",
       "    }\n",
       "</style>\n",
       "<table border=\"1\" class=\"dataframe\">\n",
       "  <thead>\n",
       "    <tr style=\"text-align: right;\">\n",
       "      <th></th>\n",
       "      <th>product</th>\n",
       "      <th>price</th>\n",
       "      <th>quantity</th>\n",
       "      <th>date</th>\n",
       "      <th>region</th>\n",
       "      <th>sales</th>\n",
       "    </tr>\n",
       "  </thead>\n",
       "  <tbody>\n",
       "    <tr>\n",
       "      <th>0</th>\n",
       "      <td>pink morsel</td>\n",
       "      <td>3.0</td>\n",
       "      <td>546.0</td>\n",
       "      <td>2018-02-06</td>\n",
       "      <td>north</td>\n",
       "      <td>1638.0</td>\n",
       "    </tr>\n",
       "    <tr>\n",
       "      <th>1</th>\n",
       "      <td>pink morsel</td>\n",
       "      <td>3.0</td>\n",
       "      <td>549.0</td>\n",
       "      <td>2018-02-06</td>\n",
       "      <td>south</td>\n",
       "      <td>1647.0</td>\n",
       "    </tr>\n",
       "    <tr>\n",
       "      <th>2</th>\n",
       "      <td>pink morsel</td>\n",
       "      <td>3.0</td>\n",
       "      <td>577.0</td>\n",
       "      <td>2018-02-06</td>\n",
       "      <td>east</td>\n",
       "      <td>1731.0</td>\n",
       "    </tr>\n",
       "    <tr>\n",
       "      <th>3</th>\n",
       "      <td>pink morsel</td>\n",
       "      <td>3.0</td>\n",
       "      <td>519.0</td>\n",
       "      <td>2018-02-06</td>\n",
       "      <td>west</td>\n",
       "      <td>1557.0</td>\n",
       "    </tr>\n",
       "    <tr>\n",
       "      <th>28</th>\n",
       "      <td>pink morsel</td>\n",
       "      <td>3.0</td>\n",
       "      <td>529.0</td>\n",
       "      <td>2018-02-07</td>\n",
       "      <td>north</td>\n",
       "      <td>1587.0</td>\n",
       "    </tr>\n",
       "  </tbody>\n",
       "</table>\n",
       "</div>"
      ],
      "text/plain": [
       "        product  price  quantity        date region   sales\n",
       "0   pink morsel    3.0     546.0  2018-02-06  north  1638.0\n",
       "1   pink morsel    3.0     549.0  2018-02-06  south  1647.0\n",
       "2   pink morsel    3.0     577.0  2018-02-06   east  1731.0\n",
       "3   pink morsel    3.0     519.0  2018-02-06   west  1557.0\n",
       "28  pink morsel    3.0     529.0  2018-02-07  north  1587.0"
      ]
     },
     "execution_count": 29,
     "metadata": {},
     "output_type": "execute_result"
    }
   ],
   "source": [
    "df.head()"
   ]
  },
  {
   "cell_type": "code",
   "execution_count": 30,
   "id": "0c7a2c17-02bf-4321-bae1-ffab79b71ae8",
   "metadata": {},
   "outputs": [],
   "source": [
    "# Concatenate the dataframe vertically\n",
    "result = pd.concat([df, df1, df2])"
   ]
  },
  {
   "cell_type": "code",
   "execution_count": 31,
   "id": "31479f4d-5d15-46ad-ab72-e2776a244116",
   "metadata": {},
   "outputs": [
    {
     "data": {
      "text/html": [
       "<div>\n",
       "<style scoped>\n",
       "    .dataframe tbody tr th:only-of-type {\n",
       "        vertical-align: middle;\n",
       "    }\n",
       "\n",
       "    .dataframe tbody tr th {\n",
       "        vertical-align: top;\n",
       "    }\n",
       "\n",
       "    .dataframe thead th {\n",
       "        text-align: right;\n",
       "    }\n",
       "</style>\n",
       "<table border=\"1\" class=\"dataframe\">\n",
       "  <thead>\n",
       "    <tr style=\"text-align: right;\">\n",
       "      <th></th>\n",
       "      <th>product</th>\n",
       "      <th>price</th>\n",
       "      <th>quantity</th>\n",
       "      <th>date</th>\n",
       "      <th>region</th>\n",
       "      <th>sales</th>\n",
       "    </tr>\n",
       "  </thead>\n",
       "  <tbody>\n",
       "    <tr>\n",
       "      <th>0</th>\n",
       "      <td>pink morsel</td>\n",
       "      <td>3.0</td>\n",
       "      <td>546.0</td>\n",
       "      <td>2018-02-06</td>\n",
       "      <td>north</td>\n",
       "      <td>1638.0</td>\n",
       "    </tr>\n",
       "    <tr>\n",
       "      <th>1</th>\n",
       "      <td>pink morsel</td>\n",
       "      <td>3.0</td>\n",
       "      <td>549.0</td>\n",
       "      <td>2018-02-06</td>\n",
       "      <td>south</td>\n",
       "      <td>1647.0</td>\n",
       "    </tr>\n",
       "    <tr>\n",
       "      <th>2</th>\n",
       "      <td>pink morsel</td>\n",
       "      <td>3.0</td>\n",
       "      <td>577.0</td>\n",
       "      <td>2018-02-06</td>\n",
       "      <td>east</td>\n",
       "      <td>1731.0</td>\n",
       "    </tr>\n",
       "    <tr>\n",
       "      <th>3</th>\n",
       "      <td>pink morsel</td>\n",
       "      <td>3.0</td>\n",
       "      <td>519.0</td>\n",
       "      <td>2018-02-06</td>\n",
       "      <td>west</td>\n",
       "      <td>1557.0</td>\n",
       "    </tr>\n",
       "    <tr>\n",
       "      <th>28</th>\n",
       "      <td>pink morsel</td>\n",
       "      <td>3.0</td>\n",
       "      <td>529.0</td>\n",
       "      <td>2018-02-07</td>\n",
       "      <td>north</td>\n",
       "      <td>1587.0</td>\n",
       "    </tr>\n",
       "  </tbody>\n",
       "</table>\n",
       "</div>"
      ],
      "text/plain": [
       "        product price  quantity        date region   sales\n",
       "0   pink morsel   3.0     546.0  2018-02-06  north  1638.0\n",
       "1   pink morsel   3.0     549.0  2018-02-06  south  1647.0\n",
       "2   pink morsel   3.0     577.0  2018-02-06   east  1731.0\n",
       "3   pink morsel   3.0     519.0  2018-02-06   west  1557.0\n",
       "28  pink morsel   3.0     529.0  2018-02-07  north  1587.0"
      ]
     },
     "execution_count": 31,
     "metadata": {},
     "output_type": "execute_result"
    }
   ],
   "source": [
    "result.head()"
   ]
  },
  {
   "cell_type": "code",
   "execution_count": 32,
   "id": "1a900b20-da07-4be5-ad35-0e2ba6c5fd9b",
   "metadata": {},
   "outputs": [
    {
     "name": "stdout",
     "output_type": "stream",
     "text": [
      "<class 'pandas.core.frame.DataFrame'>\n",
      "Index: 5881 entries, 0 to 13695\n",
      "Data columns (total 6 columns):\n",
      " #   Column    Non-Null Count  Dtype  \n",
      "---  ------    --------------  -----  \n",
      " 0   product   5880 non-null   object \n",
      " 1   price     5880 non-null   object \n",
      " 2   quantity  5880 non-null   float64\n",
      " 3   date      5880 non-null   object \n",
      " 4   region    5880 non-null   object \n",
      " 5   sales     5880 non-null   object \n",
      "dtypes: float64(1), object(5)\n",
      "memory usage: 321.6+ KB\n"
     ]
    }
   ],
   "source": [
    "result.info()"
   ]
  },
  {
   "cell_type": "code",
   "execution_count": 33,
   "id": "52ffa488-8fb9-40b2-b6b4-ecc24d63987e",
   "metadata": {},
   "outputs": [],
   "source": [
    "# Reorder the columns as per your requirement ('Sales', 'Date', 'Region')\n",
    "result = result[['sales', 'date', 'region']]"
   ]
  },
  {
   "cell_type": "code",
   "execution_count": 35,
   "id": "6ff9c1be-5da9-4843-a0ae-c90747542fd0",
   "metadata": {},
   "outputs": [
    {
     "name": "stdout",
     "output_type": "stream",
     "text": [
      "<class 'pandas.core.frame.DataFrame'>\n",
      "Index: 5881 entries, 0 to 13695\n",
      "Data columns (total 3 columns):\n",
      " #   Column  Non-Null Count  Dtype \n",
      "---  ------  --------------  ----- \n",
      " 0   sales   5880 non-null   object\n",
      " 1   date    5880 non-null   object\n",
      " 2   region  5880 non-null   object\n",
      "dtypes: object(3)\n",
      "memory usage: 183.8+ KB\n"
     ]
    }
   ],
   "source": [
    "result.info()"
   ]
  },
  {
   "cell_type": "code",
   "execution_count": 36,
   "id": "92effaff-3676-4c62-a425-f5548c9cb4c0",
   "metadata": {},
   "outputs": [],
   "source": [
    "# Save the combined DataFrame to a new CSV file\n",
    "result.to_csv('final.csv', index=False)"
   ]
  }
 ],
 "metadata": {
  "kernelspec": {
   "display_name": "Python 3 (ipykernel)",
   "language": "python",
   "name": "python3"
  },
  "language_info": {
   "codemirror_mode": {
    "name": "ipython",
    "version": 3
   },
   "file_extension": ".py",
   "mimetype": "text/x-python",
   "name": "python",
   "nbconvert_exporter": "python",
   "pygments_lexer": "ipython3",
   "version": "3.9.8"
  }
 },
 "nbformat": 4,
 "nbformat_minor": 5
}
